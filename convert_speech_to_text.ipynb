{
 "cells": [
  {
   "cell_type": "code",
   "execution_count": 4,
   "metadata": {},
   "outputs": [
    {
     "name": "stdout",
     "output_type": "stream",
     "text": [
      "Speak now...\n",
      "You said: assalamualaikum\n"
     ]
    }
   ],
   "source": [
    "import speech_recognition as sr\n",
    "\n",
    "# Initialize recognizer\n",
    "recognizer = sr.Recognizer()\n",
    "\n",
    "# Function to listen and convert speech to text with pause detection\n",
    "def listen_and_convert():\n",
    "  with sr.Microphone() as source:\n",
    "    print(\"Speak now...\")\n",
    "    audio = recognizer.listen(source, phrase_time_limit=5)\n",
    "  try:\n",
    "    text = recognizer.recognize_google(audio)\n",
    "    print(\"You said: \" + text)\n",
    "  except sr.UnknownValueError:\n",
    "    print(\"Sorry, I could not understand what you said.\")\n",
    "  except sr.RequestError as e:\n",
    "    print(\"Could not request results from Google Speech Recognition service; {0}\".format(e))\n",
    "listen_and_convert()\n",
    "    "
   ]
  }
 ],
 "metadata": {
  "kernelspec": {
   "display_name": "base",
   "language": "python",
   "name": "python3"
  },
  "language_info": {
   "codemirror_mode": {
    "name": "ipython",
    "version": 3
   },
   "file_extension": ".py",
   "mimetype": "text/x-python",
   "name": "python",
   "nbconvert_exporter": "python",
   "pygments_lexer": "ipython3",
   "version": "3.12.2"
  }
 },
 "nbformat": 4,
 "nbformat_minor": 2
}
